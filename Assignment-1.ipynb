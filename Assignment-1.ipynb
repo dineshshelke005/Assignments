{
 "cells": [
  {
   "cell_type": "code",
   "execution_count": 2,
   "id": "5c703627",
   "metadata": {},
   "outputs": [],
   "source": [
    "Python Basic Assignment - 1\n"
   ]
  },
  {
   "cell_type": "code",
   "execution_count": 3,
   "id": "85b122e4",
   "metadata": {},
   "outputs": [
    {
     "ename": "SyntaxError",
     "evalue": "invalid syntax (3779132760.py, line 1)",
     "output_type": "error",
     "traceback": [
      "\u001b[1;36m  File \u001b[1;32m\"C:\\Users\\HP\\AppData\\Local\\Temp\\ipykernel_7512\\3779132760.py\"\u001b[1;36m, line \u001b[1;32m1\u001b[0m\n\u001b[1;33m    (a) expression\u001b[0m\n\u001b[1;37m        ^\u001b[0m\n\u001b[1;31mSyntaxError\u001b[0m\u001b[1;31m:\u001b[0m invalid syntax\n"
     ]
    }
   ],
   "source": [
    "Quation 1\n",
    "(a) expression\n",
    "(b) value\n",
    "(c) value\n",
    "(d) expression\n",
    "(e) expression\n",
    "(f) expression\n",
    "(g) value\n"
   ]
  },
  {
   "cell_type": "code",
   "execution_count": null,
   "id": "619bee96",
   "metadata": {},
   "outputs": [],
   "source": [
    "2.\n",
    "Variable is nothing but a kind of an entity (reserved memory location) which helps us out to hold data and gives\n",
    "the data to the computer when it is required by the computer for processing. Whereas string, which is a type of\n",
    "data that can be stored in a variable, is a sequence of characters that can be enclosed by single, double or triple\n",
    "quotation mark."
   ]
  },
  {
   "cell_type": "code",
   "execution_count": null,
   "id": "ee8e1135",
   "metadata": {},
   "outputs": [],
   "source": [
    "3.\n",
    "(1) Integer data type: It is a data type used to store positive or negative counting numbers, along with zero,\n",
    "which have having no fractional component.\n",
    "(2) Float data type: It is a data type used to store integers having fractional component. Fractional component is\n",
    "separated by a decimal.\n",
    "(3) Boolean data type: It is a data type that represents one of two possible values, True or False."
   ]
  },
  {
   "cell_type": "code",
   "execution_count": null,
   "id": "4567b100",
   "metadata": {},
   "outputs": [],
   "source": [
    "4.\n",
    "An expression is a combination of constants, values ,variables, operands and operators, where operators\n",
    "include arithmetic and boolean operators, the function call operator (), the subscription operator [] etc.\n",
    "All expressions produces the result, which is always a single value, when reduced or evaluated down with the\n",
    "help of an interpreter."
   ]
  },
  {
   "cell_type": "code",
   "execution_count": 4,
   "id": "16e1bd02",
   "metadata": {},
   "outputs": [
    {
     "ename": "SyntaxError",
     "evalue": "invalid syntax (1173047465.py, line 1)",
     "output_type": "error",
     "traceback": [
      "\u001b[1;36m  File \u001b[1;32m\"C:\\Users\\HP\\AppData\\Local\\Temp\\ipykernel_7512\\1173047465.py\"\u001b[1;36m, line \u001b[1;32m1\u001b[0m\n\u001b[1;33m    5.An expression always evaluates to a single value, whereas a statement does not. The python executes a\u001b[0m\n\u001b[1;37m      ^\u001b[0m\n\u001b[1;31mSyntaxError\u001b[0m\u001b[1;31m:\u001b[0m invalid syntax\n"
     ]
    }
   ],
   "source": [
    "5.An expression always evaluates to a single value, whereas a statement does not. The python executes a\n",
    "statement, but the interpreter does not display any results, whereas in case of an expresssion, the interpreter\n",
    "evaluates an expression and displays the result."
   ]
  },
  {
   "cell_type": "code",
   "execution_count": 5,
   "id": "b340f7ee",
   "metadata": {},
   "outputs": [
    {
     "data": {
      "text/plain": [
       "23"
      ]
     },
     "execution_count": 5,
     "metadata": {},
     "output_type": "execute_result"
    }
   ],
   "source": [
    "6.\n",
    "bacon = 22\n",
    "bacon + 1\n"
   ]
  },
  {
   "cell_type": "code",
   "execution_count": 6,
   "id": "dc7946e3",
   "metadata": {},
   "outputs": [
    {
     "data": {
      "text/plain": [
       "22"
      ]
     },
     "execution_count": 6,
     "metadata": {},
     "output_type": "execute_result"
    }
   ],
   "source": [
    "bacon"
   ]
  },
  {
   "cell_type": "code",
   "execution_count": 9,
   "id": "a5bfb8ab",
   "metadata": {},
   "outputs": [
    {
     "data": {
      "text/plain": [
       "'spamspamspam'"
      ]
     },
     "execution_count": 9,
     "metadata": {},
     "output_type": "execute_result"
    }
   ],
   "source": [
    "'spam' + 'spamspam'\n"
   ]
  },
  {
   "cell_type": "code",
   "execution_count": 10,
   "id": "02978280",
   "metadata": {},
   "outputs": [
    {
     "data": {
      "text/plain": [
       "'spamspamspam'"
      ]
     },
     "execution_count": 10,
     "metadata": {},
     "output_type": "execute_result"
    }
   ],
   "source": [
    "'spam'*3"
   ]
  },
  {
   "cell_type": "code",
   "execution_count": null,
   "id": "0bf85e59",
   "metadata": {},
   "outputs": [],
   "source": [
    "7. \n",
    "Both of the terms would give 'spamspamspam' as output.\n"
   ]
  },
  {
   "cell_type": "code",
   "execution_count": null,
   "id": "767c900a",
   "metadata": {},
   "outputs": [],
   "source": [
    "8.\n",
    "A variable name cannot start with a number.\n",
    "In the given example, 100 is an invalid variable because it starts with a number 1\n"
   ]
  },
  {
   "cell_type": "code",
   "execution_count": 12,
   "id": "416097f0",
   "metadata": {},
   "outputs": [
    {
     "ename": "SyntaxError",
     "evalue": "invalid syntax (2868589571.py, line 2)",
     "output_type": "error",
     "traceback": [
      "\u001b[1;36m  File \u001b[1;32m\"C:\\Users\\HP\\AppData\\Local\\Temp\\ipykernel_7512\\2868589571.py\"\u001b[1;36m, line \u001b[1;32m2\u001b[0m\n\u001b[1;33m    The int(), float(), and str() functions will evaluate to the integer, floating-point number or string versions of the\u001b[0m\n\u001b[1;37m        ^\u001b[0m\n\u001b[1;31mSyntaxError\u001b[0m\u001b[1;31m:\u001b[0m invalid syntax\n"
     ]
    }
   ],
   "source": [
    "9.\n",
    "The int(), float(), and str() functions will evaluate to the integer, floating-point number or string versions of the\n",
    "value we pass, respectively."
   ]
  },
  {
   "cell_type": "code",
   "execution_count": 15,
   "id": "10f15f77",
   "metadata": {},
   "outputs": [
    {
     "data": {
      "text/plain": [
       "'I have eaten99burritos.'"
      ]
     },
     "execution_count": 15,
     "metadata": {},
     "output_type": "execute_result"
    }
   ],
   "source": [
    "10.\n",
    "'I have eaten' + '99' + 'burritos.'\n"
   ]
  },
  {
   "cell_type": "code",
   "execution_count": 14,
   "id": "3e508a49",
   "metadata": {},
   "outputs": [
    {
     "ename": "SyntaxError",
     "evalue": "invalid syntax (2517116470.py, line 1)",
     "output_type": "error",
     "traceback": [
      "\u001b[1;36m  File \u001b[1;32m\"C:\\Users\\HP\\AppData\\Local\\Temp\\ipykernel_7512\\2517116470.py\"\u001b[1;36m, line \u001b[1;32m1\u001b[0m\n\u001b[1;33m    The expression causes an error because 99 is an integer, and the + operator can only concatenate strings to\u001b[0m\n\u001b[1;37m        ^\u001b[0m\n\u001b[1;31mSyntaxError\u001b[0m\u001b[1;31m:\u001b[0m invalid syntax\n"
     ]
    }
   ],
   "source": [
    "The expression causes an error because 99 is an integer, and the + operator can only concatenate strings to\n",
    "other strings (not integers). "
   ]
  },
  {
   "cell_type": "code",
   "execution_count": null,
   "id": "b7659228",
   "metadata": {},
   "outputs": [],
   "source": []
  }
 ],
 "metadata": {
  "kernelspec": {
   "display_name": "Python 3 (ipykernel)",
   "language": "python",
   "name": "python3"
  },
  "language_info": {
   "codemirror_mode": {
    "name": "ipython",
    "version": 3
   },
   "file_extension": ".py",
   "mimetype": "text/x-python",
   "name": "python",
   "nbconvert_exporter": "python",
   "pygments_lexer": "ipython3",
   "version": "3.9.13"
  }
 },
 "nbformat": 4,
 "nbformat_minor": 5
}
